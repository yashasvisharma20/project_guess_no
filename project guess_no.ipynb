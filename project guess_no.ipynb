{
 "cells": [
  {
   "cell_type": "code",
   "execution_count": 5,
   "metadata": {},
   "outputs": [
    {
     "name": "stdout",
     "output_type": "stream",
     "text": [
      "Sucess: Correct Guess!!\n",
      "Game Over......\n"
     ]
    }
   ],
   "source": [
    "import random\n",
    "\n",
    "\n",
    "target =random.randint(1,100)\n",
    "while True:\n",
    "    userchoice = int(input(\"Enter the target number: \"))\n",
    "    if(userchoice == target):\n",
    "        print(\"Sucess: Correct Guess!!\")\n",
    "        break\n",
    "    elif(userchoice < target):\n",
    "        print(\"Your number was too small. Guess Bigger Number\")\n",
    "    else:\n",
    "        print(\"Your number was too big. Guess Small Number\")\n",
    "\n",
    "print(\"Game Over......\")"
   ]
  }
 ],
 "metadata": {
  "kernelspec": {
   "display_name": "Python 3",
   "language": "python",
   "name": "python3"
  },
  "language_info": {
   "codemirror_mode": {
    "name": "ipython",
    "version": 3
   },
   "file_extension": ".py",
   "mimetype": "text/x-python",
   "name": "python",
   "nbconvert_exporter": "python",
   "pygments_lexer": "ipython3",
   "version": "3.10.8"
  }
 },
 "nbformat": 4,
 "nbformat_minor": 2
}
